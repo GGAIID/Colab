{
  "cells": [
    {
      "cell_type": "markdown",
      "metadata": {
        "id": "view-in-github",
        "colab_type": "text"
      },
      "source": [
        "<a href=\"https://colab.research.google.com/github/GGAIID/Colab/blob/main/lora_ggaiid_kohya_ss_gui_colab.ipynb\" target=\"_parent\"><img src=\"https://colab.research.google.com/assets/colab-badge.svg\" alt=\"Open In Colab\"/></a>"
      ]
    },
    {
      "cell_type": "markdown",
      "metadata": {
        "id": "MvroZ9rJ1iqN"
      },
      "source": [
        "<center><font color=\"FA8E04\" size=\"5\"><b>Kohya SS GUI / Menu Mode</b></font></center>\n",
        "\n",
        "Notebook/Colab ini di gunakan untuk menjalankan Kohya SS GUI melalui Google Colab seperti pada lokal dan untuk menggunakan nya menggunakan link Gradio Live. Colab ini dapat dijalankan tanpa perlu menginstal apa pun.\n",
        "\n",
        "Notebook/Colab ini terinspirasi dari [Spaceginner](https://github.com/Spaceginner) dan proyek [Kohya SS Project](https://github.com/bmaltais/kohya_ss) oleh [bmaltais](https://github.com/bmaltais). Dibuat oleh [panguin6010](https://github.com/panguin6010) dan Diedit oleh [Gambar Generasi AI Indonesia](https://www.youtube.com/@GGAIID).\n",
        "\n",
        "&nbsp;\n",
        "<center><font color=\"FA8E04\" size=\"5\">⬇️ <b>Tutorial Video</b> ⬇️</font></br>\n",
        "<div align=\"center\">\n",
        " <a href=\"https://www.youtube.com/@GGAIID\"><img src=\"https://cdn-icons-png.flaticon.com/512/1384/1384060.png\" width=\"200\"/></a></a></br></center>\n",
        "\n",
        "<center><font color=\"FA8E04\" size=\"5\"> <b>- - - @GGAIID - - -</b></font></center>"
      ]
    },
    {
      "cell_type": "code",
      "execution_count": null,
      "metadata": {
        "id": "vmoRnFQEqOeY"
      },
      "outputs": [],
      "source": [
        "#@markdown #⬅️Aktifkan Pertama (1) : Menyambungkan Google Drive\n",
        "\n",
        "from google.colab import drive\n",
        "drive.mount('/content/gdrive')"
      ]
    },
    {
      "cell_type": "code",
      "execution_count": null,
      "metadata": {
        "id": "jnhm7ycMrLWb"
      },
      "outputs": [],
      "source": [
        "#@markdown #⬅️Aktifkan Kedua (2) : Kohya SS WebUI Installation\n",
        "\n",
        "#@markdown Note: Jika Google Drive (1) tidak tersambung, code-nya akan menggunakan Penyimpanan Colab.\n",
        "\n",
        "#@title\n",
        "# Import necessary libraries\n",
        "from IPython.display import clear_output\n",
        "from IPython.utils import capture\n",
        "from subprocess import getoutput\n",
        "import ipywidgets as widgets\n",
        "import sys\n",
        "import fileinput\n",
        "import os\n",
        "import time\n",
        "import shutil\n",
        "\n",
        "# Remove OLD WebUI Installation\n",
        "shutil.rmtree('/content/gdrive/MyDrive/sd', ignore_errors=True)\n",
        "\n",
        "# WebUI Installation\n",
        "%env TF_CPP_MIN_LOG_LEVEL=1\n",
        "\n",
        "!apt -y update -qq\n",
        "!wget http://launchpadlibrarian.net/367274644/libgoogle-perftools-dev_2.5-2.2ubuntu3_amd64.deb\n",
        "!wget https://launchpad.net/ubuntu/+source/google-perftools/2.5-2.2ubuntu3/+build/14795286/+files/google-perftools_2.5-2.2ubuntu3_all.deb\n",
        "!wget https://launchpad.net/ubuntu/+source/google-perftools/2.5-2.2ubuntu3/+build/14795286/+files/libtcmalloc-minimal4_2.5-2.2ubuntu3_amd64.deb\n",
        "!wget https://launchpad.net/ubuntu/+source/google-perftools/2.5-2.2ubuntu3/+build/14795286/+files/libgoogle-perftools4_2.5-2.2ubuntu3_amd64.deb\n",
        "!apt install -qq libunwind8-dev\n",
        "!dpkg -i *.deb\n",
        "%env LD_PRELOAD=libtcmalloc.so\n",
        "!rm *.deb\n",
        "\n",
        "# Check if Google Drive is connected\n",
        "if not os.path.exists(\"/content/gdrive/MyDrive/\"):\n",
        "    print(\"Gdrive not connected, using colab storage ...\")\n",
        "    time.sleep(4)\n",
        "    !mkdir -p /content/gdrive/MyDrive/\n",
        "\n",
        "# Clone the repository and create necessary directories\n",
        "with capture.capture_output() as cap:\n",
        "    def inf(msg, style, wdth):\n",
        "        inf = widgets.Button(description=msg, disabled=True, button_style=style, layout=widgets.Layout(min_width=wdth))\n",
        "        display(inf)\n",
        "\n",
        "    %mkdir -p /content/gdrive/MyDrive/sd\n",
        "    %cd /content/gdrive/MyDrive/sd\n",
        "    !git clone https://github.com/YKefasu/kohya_ss_gui_google_colab kohya_ss_colab\n",
        "    !mkdir -p /content/gdrive/MyDrive/sd/kohya_ss_colab/cache/huggingface\n",
        "    !ln -s /content/gdrive/MyDrive/sd/kohya_ss_colab/cache/huggingface /root/.cache/\n",
        "\n",
        "# Reset the git repository and pull the latest changes\n",
        "with capture.capture_output() as cap:\n",
        "    %cd /content/gdrive/MyDrive/sd/kohya_ss_colab/\n",
        "    !git reset --hard\n",
        "    time.sleep(1)\n",
        "\n",
        "print(\"Updating the repository...\")\n",
        "!git pull\n",
        "\n",
        "# Clear the output and display the success message\n",
        "clear_output()\n",
        "inf(\"✓ Done\", \"success\", \"50px\")"
      ]
    },
    {
      "cell_type": "code",
      "execution_count": null,
      "metadata": {
        "id": "yjvkHRlDtDmV"
      },
      "outputs": [],
      "source": [
        "#@markdown #⬅️ Aktifkan Ketiga (3) : Requirements Installation\n",
        "\n",
        "#@markdown Note : Ini sedikit lama tapi ini adalah programnya, paling 5 menit.\n",
        "\n",
        "# Print the status message\n",
        "print(\"Installing requirements...\")\n",
        "\n",
        "# Change the working directory to the project folder\n",
        "%cd /content/gdrive/MyDrive/sd/kohya_ss_colab/\n",
        "\n",
        "# Install the requirements\n",
        "with capture.capture_output() as cap:\n",
        "    # Uncomment the following line if you need to install specific versions of torch and torchvision\n",
        "    !pip install torch==2.0.0+cu118 torchvision==0.15.1+cu118 --extra-index-url https://download.pytorch.org/whl/cu118\n",
        "    !pip install xformers==0.0.19\n",
        "    \n",
        "    # Install the requirements from the requirements.txt file\n",
        "    !pip install -r requirements.txt\n",
        "\n",
        "# Clear the output to keep the notebook clean\n",
        "clear_output()\n",
        "\n",
        "# Print the success message\n",
        "inf(\"✓ Done\", \"success\", \"50px\")"
      ]
    },
    {
      "cell_type": "markdown",
      "metadata": {
        "id": "FLDvlHm1tYud"
      },
      "source": [
        "---\n",
        "---\n",
        "\n"
      ]
    },
    {
      "cell_type": "code",
      "source": [
        "#@markdown #Optional🛠️: Download File or PreTrained Model\n",
        "PreTrained_Model = \"Masuk kan Link download Model disini jika perlu\"  # @param {'type': 'string'}\n",
        "!wget --content-disposition $PreTrained_Model"
      ],
      "metadata": {
        "id": "872nKng2jGJY"
      },
      "execution_count": null,
      "outputs": []
    },
    {
      "cell_type": "markdown",
      "source": [
        "---\n",
        "---"
      ],
      "metadata": {
        "id": "pv26Qv-GjJfA"
      }
    },
    {
      "cell_type": "code",
      "execution_count": null,
      "metadata": {
        "id": "IzS3hvuTtTqW"
      },
      "outputs": [],
      "source": [
        "#@markdown #⬅️Aktifkan Keempat (4) : Start Kohya ss WebUI\n",
        "\n",
        "User = \"\" #@param {type:\"string\"}\n",
        "Password = \"\" #@param {type:\"string\"}\n",
        "\n",
        "#@markdown  ** Adding a username and password is not necessary but it will improve the security of your Kohya instance.\n",
        "#@markdown ___\n",
        "#@markdown # Pencet LINK yang ada -> gradio.live <- untuk memulai!!\n",
        "#@markdown #Jika ada !!WARNING!! saat menjalankan training, pencet tanda X di sebelah code, atau kalau kurang jelas tonton video di atas!!\n",
        "# Encourage users to contribute improvements\n",
        "print(\"Please feel free to make any changes or improvements you think would enhance this setup. Your input and contributions are greatly appreciated!\")\n",
        "# Check if the user has provided a username and password\n",
        "if User and Password:\n",
        "    # Run the Kohya GUI with the provided credentials\n",
        "    !python /content/gdrive/MyDrive/sd/kohya_ss_colab/kohya_gui.py --username $User --password $Password --share --headless\n",
        "else:\n",
        "    # Run the Kohya GUI without credentials\n",
        "    !python /content/gdrive/MyDrive/sd/kohya_ss_colab/kohya_gui.py --share --headless\n"
      ]
    },
    {
      "cell_type": "markdown",
      "source": [
        "<center><font color=\"FA8E04\" size=\"5\"><b>LIKE, COMMENT, SUBSCRIBE </b></font></center>\n",
        "<center>Bantu Channel ini berkembang, jika kalian masih ingin Tutorial yang lain. Mutualisme bukan Parasitisme!!!</center>\n",
        "<div align=\"center\">\n",
        " <a href=\"https://www.youtube.com/@GGAIID\"><img src=\"https://cdn.pixabay.com/photo/2021/08/17/17/49/youtube-6553743_1280.png\" width=\"222\"/></a>\n",
        "<center><font color=\"FA8E04\" size=\"5\"><b>Join Komunitas Gambar AI disini, Untuk share, bertanya, dan Tutor Privat</b></font></center>\n",
        " <a href=\"https://discord.gg/Q2m3SQEtvM\"><img src=\"https://blog.paniniamerica.net/wp-content/uploads/2022/01/Join_Discord-logo.png\" width=\"200\"/></a></div>\n",
        "<center>Tekan kedua Gambar tombol tersebut, karena ini pemaksaan :D </center>\n"
      ],
      "metadata": {
        "id": "q2gtcdtPeRmO"
      }
    }
  ],
  "metadata": {
    "colab": {
      "provenance": [],
      "include_colab_link": true
    },
    "kernelspec": {
      "display_name": "Python 3",
      "name": "python3"
    },
    "language_info": {
      "name": "python"
    }
  },
  "nbformat": 4,
  "nbformat_minor": 0
}